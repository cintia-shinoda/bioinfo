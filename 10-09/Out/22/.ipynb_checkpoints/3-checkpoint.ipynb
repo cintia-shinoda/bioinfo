{
 "cells": [
  {
   "cell_type": "markdown",
   "id": "ab728b74",
   "metadata": {},
   "source": [
    "## Counting Point Mutations\n",
    "\n",
    "https://rosalind.info/problems/hamm/\n",
    "\n",
    "Given two strings s and t of equal length, the Hamming distance between s and t, denoted dH(s,t), is the number of corresponding symbols that differ in s and t. See Figure 2.\n",
    "\n",
    "Given: Two DNA strings s and t of equal length (not exceeding 1 kbp).\n",
    "\n",
    "Return: The Hamming distance dH(s,t).\n",
    "\n",
    "**Sample Dataset**\n",
    "```GAGCCTACTAACGGGAT\n",
    "CATCGTAATGACGGCCT```\n",
    "\n",
    "**Sample Output**\n",
    "\n",
    "```7```"
   ]
  },
  {
   "cell_type": "code",
   "execution_count": null,
   "id": "99527fe2",
   "metadata": {},
   "outputs": [],
   "source": []
  }
 ],
 "metadata": {
  "kernelspec": {
   "display_name": "Python 3 (ipykernel)",
   "language": "python",
   "name": "python3"
  },
  "language_info": {
   "codemirror_mode": {
    "name": "ipython",
    "version": 3
   },
   "file_extension": ".py",
   "mimetype": "text/x-python",
   "name": "python",
   "nbconvert_exporter": "python",
   "pygments_lexer": "ipython3",
   "version": "3.8.12"
  }
 },
 "nbformat": 4,
 "nbformat_minor": 5
}
